question 1:

x = 15;
type(x)
x = float(x)
x

question 2:

x = 3.67
type(x)
x = int(x)
x

question 3:
x = 98
type(x)
x = str(x)
x

question 4:
K1 = ['Vansh', 'ball', 'Bat']
type(K1)
tuple(K1)

question 5:
K1 = ('ash', 'all', 'sat')
type(K1)
list(K1)

question 6:
d1 = 667
type(d1)
bin(d1)

quesion 7:
b1 = 667
type(b1)
bool(b1)